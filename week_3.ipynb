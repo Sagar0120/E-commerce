{
  "nbformat": 4,
  "nbformat_minor": 0,
  "metadata": {
    "colab": {
      "provenance": [],
      "authorship_tag": "ABX9TyNHwalvLcVZBSNL/fIt7lCb",
      "include_colab_link": true
    },
    "kernelspec": {
      "name": "python3",
      "display_name": "Python 3"
    },
    "language_info": {
      "name": "python"
    }
  },
  "cells": [
    {
      "cell_type": "markdown",
      "metadata": {
        "id": "view-in-github",
        "colab_type": "text"
      },
      "source": [
        "<a href=\"https://colab.research.google.com/github/sagar-innovatics/Python_Basics/blob/main/week_3.ipynb\" target=\"_parent\"><img src=\"https://colab.research.google.com/assets/colab-badge.svg\" alt=\"Open In Colab\"/></a>"
      ]
    },
    {
      "cell_type": "markdown",
      "source": [
        "Boolean Expressions and Logical Operators"
      ],
      "metadata": {
        "id": "_Lphvqan96KX"
      }
    },
    {
      "cell_type": "code",
      "execution_count": 2,
      "metadata": {
        "colab": {
          "base_uri": "https://localhost:8080/"
        },
        "id": "cGMNNYQh9b0j",
        "outputId": "2a7442b7-ae38-4241-a69b-4f497b25cc54"
      },
      "outputs": [
        {
          "output_type": "stream",
          "name": "stdout",
          "text": [
            "x is greater than 10\n"
          ]
        }
      ],
      "source": [
        "x = 17\n",
        "if x > 10:\n",
        "  print(\"x is greater than 10\")"
      ]
    },
    {
      "cell_type": "code",
      "source": [
        "x = 36\n",
        "y = 36\n",
        "if x == y:\n",
        "  print(\"x is equal to y\")\n",
        "else:\n",
        "  print(\"x is not equal to y\")"
      ],
      "metadata": {
        "colab": {
          "base_uri": "https://localhost:8080/"
        },
        "id": "utyQ0vht-TgK",
        "outputId": "d3e7957c-8409-493c-da83-4c15720ed335"
      },
      "execution_count": 3,
      "outputs": [
        {
          "output_type": "stream",
          "name": "stdout",
          "text": [
            "x is equal to y\n"
          ]
        }
      ]
    },
    {
      "cell_type": "code",
      "source": [
        "x = True\n",
        "y = False\n",
        "if x or y:\n",
        "  print(\"x or y is true\")\n",
        "else:\n",
        "  print(\"x or y is false\")\n"
      ],
      "metadata": {
        "colab": {
          "base_uri": "https://localhost:8080/"
        },
        "id": "cEABnzMh-WJC",
        "outputId": "96238222-3c80-4f6a-f544-972fb1646dcb"
      },
      "execution_count": 4,
      "outputs": [
        {
          "output_type": "stream",
          "name": "stdout",
          "text": [
            "x or y is true\n"
          ]
        }
      ]
    },
    {
      "cell_type": "markdown",
      "source": [
        "The in and not in Operators"
      ],
      "metadata": {
        "id": "WiCpQPQa_CCN"
      }
    },
    {
      "cell_type": "code",
      "source": [
        "if 5 in [1, 2, 3, 4, 5]:\n",
        "  print(\"5 is present in the list\")\n",
        "else:\n",
        "  print(\"5 is not present in the list\")"
      ],
      "metadata": {
        "colab": {
          "base_uri": "https://localhost:8080/"
        },
        "id": "5XsaFD6m-ro4",
        "outputId": "6db38361-e4f5-4f2c-ea5d-f1bbd7e0fd6c"
      },
      "execution_count": 9,
      "outputs": [
        {
          "output_type": "stream",
          "name": "stdout",
          "text": [
            "5 is present in the list\n"
          ]
        }
      ]
    },
    {
      "cell_type": "code",
      "source": [
        "if \"a\" in \"banana\":\n",
        "  print(\"a is present in the string\")\n",
        "else:\n",
        "  print(\"a is not present in the string\")"
      ],
      "metadata": {
        "colab": {
          "base_uri": "https://localhost:8080/"
        },
        "id": "u2eXWyOS_EF6",
        "outputId": "4d974ad4-8c32-457a-960e-991a1369b775"
      },
      "execution_count": 10,
      "outputs": [
        {
          "output_type": "stream",
          "name": "stdout",
          "text": [
            "a is present in the string\n"
          ]
        }
      ]
    },
    {
      "cell_type": "code",
      "source": [
        "numbers = [1, 2, 3, 4, 5]\n",
        "if 6 not in numbers:\n",
        "  print(\"6 is not present in the list\")\n",
        "else:\n",
        "  print(\"6 is present in the list\")"
      ],
      "metadata": {
        "colab": {
          "base_uri": "https://localhost:8080/"
        },
        "id": "sTLXJWe6_Hh0",
        "outputId": "6684821e-2e3a-4b7f-a156-b9cf15a5bb8a"
      },
      "execution_count": 13,
      "outputs": [
        {
          "output_type": "stream",
          "name": "stdout",
          "text": [
            "6 is not present in the list\n"
          ]
        }
      ]
    },
    {
      "cell_type": "markdown",
      "source": [
        "Precedence of Operators"
      ],
      "metadata": {
        "id": "cA-8-IbuATI8"
      }
    },
    {
      "cell_type": "markdown",
      "source": [
        "The expression 1 + 2 * 3 is evaluated as follows:\n",
        "\n",
        "The multiplication operator is evaluated first, which gives the value 6.\n",
        "The addition operator is then evaluated, which gives the value 7.\n",
        "The result of the expression is then printed to the console."
      ],
      "metadata": {
        "id": "BQGO3vHYAZ6Y"
      }
    },
    {
      "cell_type": "code",
      "source": [
        "# Evaluate the expression 1 + 2 * 3\n",
        "result = 1 + 2 * 3\n",
        "\n",
        "# Print the result\n",
        "print(result)"
      ],
      "metadata": {
        "colab": {
          "base_uri": "https://localhost:8080/"
        },
        "id": "iLYPznnn_2CK",
        "outputId": "10c9f2c4-6b55-4238-8e50-d735b092d470"
      },
      "execution_count": 14,
      "outputs": [
        {
          "output_type": "stream",
          "name": "stdout",
          "text": [
            "7\n"
          ]
        }
      ]
    },
    {
      "cell_type": "markdown",
      "source": [
        "The expression (1 + 2) * 3 is evaluated as follows:\n",
        "\n",
        "The expression inside the parentheses is evaluated first, which gives the value 3.\n",
        "The multiplication operator is then evaluated, which gives the value 9.\n",
        "The result of the expression is then printed to the console."
      ],
      "metadata": {
        "id": "UdKxx6YUAk7i"
      }
    },
    {
      "cell_type": "code",
      "source": [
        "# Evaluate the expression (1 + 2) * 3\n",
        "result = (1 + 2) * 3\n",
        "\n",
        "# Print the result\n",
        "print(result)"
      ],
      "metadata": {
        "colab": {
          "base_uri": "https://localhost:8080/"
        },
        "id": "DJa-rUAIAd_F",
        "outputId": "0d9f8822-c1e9-4213-f9ab-f23946490b7a"
      },
      "execution_count": 15,
      "outputs": [
        {
          "output_type": "stream",
          "name": "stdout",
          "text": [
            "9\n"
          ]
        }
      ]
    },
    {
      "cell_type": "markdown",
      "source": [
        "Conditional Execution"
      ],
      "metadata": {
        "id": "NBLzCeJxA5pt"
      }
    },
    {
      "cell_type": "markdown",
      "source": [
        "The <condition> is a Boolean expression that is evaluated. If the condition is True, then the <block of code> is executed. If the condition is False, then the <block of code> is skipped.\n",
        "\n",
        "Here is an example of how the if statement can be used:"
      ],
      "metadata": {
        "id": "scu1Zm4JA-ps"
      }
    },
    {
      "cell_type": "code",
      "source": [
        "# Check if the number is even\n",
        "number = 10\n",
        "\n",
        "if number % 2 == 0:\n",
        "  print(\"The number is even\")\n",
        "else:\n",
        "  print(\"The number is odd\")"
      ],
      "metadata": {
        "colab": {
          "base_uri": "https://localhost:8080/"
        },
        "id": "sRjUBNhvAoQU",
        "outputId": "8015c19b-5e71-4dd0-ea0e-29ab9403bd56"
      },
      "execution_count": 16,
      "outputs": [
        {
          "output_type": "stream",
          "name": "stdout",
          "text": [
            "The number is even\n"
          ]
        }
      ]
    },
    {
      "cell_type": "markdown",
      "source": [
        "Unary Selection, Nested Conditionals, and Chained Conditionals"
      ],
      "metadata": {
        "id": "qTo7p47ABRFX"
      }
    },
    {
      "cell_type": "markdown",
      "source": [
        "Unary selection is a type of conditional statement that allows you to execute different code based on the value of a single variable. The syntax for a unary selection statement is as follows:"
      ],
      "metadata": {
        "id": "9D5dgIqXBXXz"
      }
    },
    {
      "cell_type": "code",
      "source": [
        "# Check if the number is even\n",
        "number = 10\n",
        "\n",
        "if number % 2 == 0:\n",
        "  print(\"The number is even\")"
      ],
      "metadata": {
        "colab": {
          "base_uri": "https://localhost:8080/"
        },
        "id": "RKjX10JTBQQJ",
        "outputId": "f17d81f3-4303-44e7-88d7-87e703562c73"
      },
      "execution_count": 17,
      "outputs": [
        {
          "output_type": "stream",
          "name": "stdout",
          "text": [
            "The number is even\n"
          ]
        }
      ]
    },
    {
      "cell_type": "markdown",
      "source": [
        "Nested conditionals are a type of conditional statement that allows you to nest one conditional statement inside another. The syntax for a nested conditional statement is as follows:"
      ],
      "metadata": {
        "id": "E5NT6PgPBfVn"
      }
    },
    {
      "cell_type": "code",
      "source": [
        "# Check if the number is even or odd\n",
        "number = 10\n",
        "\n",
        "if number % 2 == 0:\n",
        "  print(\"The number is even\")\n",
        "else:\n",
        "  print(\"The number is odd\")"
      ],
      "metadata": {
        "colab": {
          "base_uri": "https://localhost:8080/"
        },
        "id": "GmlX7wu9BCU7",
        "outputId": "057c794a-7da1-4475-db0d-3a2e1c204ee4"
      },
      "execution_count": 18,
      "outputs": [
        {
          "output_type": "stream",
          "name": "stdout",
          "text": [
            "The number is even\n"
          ]
        }
      ]
    },
    {
      "cell_type": "markdown",
      "source": [
        "Chained conditionals are a type of conditional statement that allows you to chain multiple conditional statements together. The syntax for a chained conditional statement is as follows:"
      ],
      "metadata": {
        "id": "_U8lZ4ABB2a5"
      }
    },
    {
      "cell_type": "code",
      "source": [
        "# Check if the number is even and greater than 10\n",
        "number = 12\n",
        "\n",
        "if number % 2 == 0 and number > 10:\n",
        "  print(\"The number is even and greater than 10\")"
      ],
      "metadata": {
        "colab": {
          "base_uri": "https://localhost:8080/"
        },
        "id": "bh2TGNk7Bt0K",
        "outputId": "51a35078-4e97-4ea6-9c45-89b743367d4f"
      },
      "execution_count": 19,
      "outputs": [
        {
          "output_type": "stream",
          "name": "stdout",
          "text": [
            "The number is even and greater than 10\n"
          ]
        }
      ]
    },
    {
      "cell_type": "markdown",
      "source": [
        "The Accumulator Pattern with Conditionals and Accumulating a Maximum Value10m"
      ],
      "metadata": {
        "id": "HY97h-XmCRsd"
      }
    },
    {
      "cell_type": "code",
      "source": [
        "# Find the maximum value in a list\n",
        "numbers = [1, 2, 3, 4, 5]\n",
        "\n",
        "# Initialize the accumulator to the smallest possible value\n",
        "max_value = -1\n",
        "\n",
        "# Iterate over the list\n",
        "for number in numbers:\n",
        "\n",
        "    # Update the accumulator if the current number is greater than the current value\n",
        "    if number > max_value:\n",
        "        max_value = number\n",
        "\n",
        "# Print the maximum value\n",
        "print(max_value)"
      ],
      "metadata": {
        "colab": {
          "base_uri": "https://localhost:8080/"
        },
        "id": "k7U2Om13B5wL",
        "outputId": "bf9d7683-6eac-4ae7-d153-5789708439f6"
      },
      "execution_count": 20,
      "outputs": [
        {
          "output_type": "stream",
          "name": "stdout",
          "text": [
            "5\n"
          ]
        }
      ]
    },
    {
      "cell_type": "code",
      "source": [],
      "metadata": {
        "id": "s1K_rIMuCRDo"
      },
      "execution_count": null,
      "outputs": []
    }
  ]
}