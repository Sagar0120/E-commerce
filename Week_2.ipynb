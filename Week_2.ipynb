{
  "nbformat": 4,
  "nbformat_minor": 0,
  "metadata": {
    "colab": {
      "provenance": []
    },
    "kernelspec": {
      "name": "python3",
      "display_name": "Python 3"
    },
    "language_info": {
      "name": "python"
    }
  },
  "cells": [
    {
      "cell_type": "markdown",
      "source": [
        "\n",
        "Lists \n"
      ],
      "metadata": {
        "id": "k1t-H2gaOGSE"
      }
    },
    {
      "cell_type": "code",
      "execution_count": null,
      "metadata": {
        "id": "LKPxzmosMGPN"
      },
      "outputs": [],
      "source": [
        "list = [1,2,4,46,34]"
      ]
    },
    {
      "cell_type": "code",
      "source": [
        "list"
      ],
      "metadata": {
        "colab": {
          "base_uri": "https://localhost:8080/"
        },
        "id": "bK63PV4oObeQ",
        "outputId": "859b1cb0-8138-40eb-a7e3-a23af2e71bd1"
      },
      "execution_count": null,
      "outputs": [
        {
          "output_type": "execute_result",
          "data": {
            "text/plain": [
              "[1, 2, 4, 46, 34]"
            ]
          },
          "metadata": {},
          "execution_count": 3
        }
      ]
    },
    {
      "cell_type": "code",
      "source": [
        "list[1]"
      ],
      "metadata": {
        "colab": {
          "base_uri": "https://localhost:8080/"
        },
        "id": "Bbzr7-9yOe4r",
        "outputId": "0e6892a7-5df7-457b-9093-079093eadada"
      },
      "execution_count": null,
      "outputs": [
        {
          "output_type": "execute_result",
          "data": {
            "text/plain": [
              "2"
            ]
          },
          "metadata": {},
          "execution_count": 4
        }
      ]
    },
    {
      "cell_type": "code",
      "source": [
        "list[4] = 7"
      ],
      "metadata": {
        "id": "iTawWCWUPrDD"
      },
      "execution_count": null,
      "outputs": []
    },
    {
      "cell_type": "code",
      "source": [
        "list[4]"
      ],
      "metadata": {
        "colab": {
          "base_uri": "https://localhost:8080/"
        },
        "id": "4OGpHybGP2F4",
        "outputId": "6bf0f0a8-a33a-436c-8381-2dcda5202ca7"
      },
      "execution_count": null,
      "outputs": [
        {
          "output_type": "execute_result",
          "data": {
            "text/plain": [
              "7"
            ]
          },
          "metadata": {},
          "execution_count": 14
        }
      ]
    },
    {
      "cell_type": "markdown",
      "source": [
        "Strings:"
      ],
      "metadata": {
        "id": "nxKz-mRfOt8a"
      }
    },
    {
      "cell_type": "code",
      "source": [
        "str = \"Hello! this is string\""
      ],
      "metadata": {
        "id": "oixDknWGOgbk"
      },
      "execution_count": null,
      "outputs": []
    },
    {
      "cell_type": "code",
      "source": [
        "str[0]"
      ],
      "metadata": {
        "colab": {
          "base_uri": "https://localhost:8080/",
          "height": 36
        },
        "id": "w3iVM42bO1ju",
        "outputId": "8f4cade5-1386-4c0a-efe9-8df969b1c1b3"
      },
      "execution_count": null,
      "outputs": [
        {
          "output_type": "execute_result",
          "data": {
            "text/plain": [
              "'H'"
            ],
            "application/vnd.google.colaboratory.intrinsic+json": {
              "type": "string"
            }
          },
          "metadata": {},
          "execution_count": 6
        }
      ]
    },
    {
      "cell_type": "code",
      "source": [
        "str[2]"
      ],
      "metadata": {
        "colab": {
          "base_uri": "https://localhost:8080/",
          "height": 36
        },
        "id": "6SYPT2etO5Kt",
        "outputId": "f577402b-0c87-41d0-9745-45d1d2749e33"
      },
      "execution_count": null,
      "outputs": [
        {
          "output_type": "execute_result",
          "data": {
            "text/plain": [
              "'l'"
            ],
            "application/vnd.google.colaboratory.intrinsic+json": {
              "type": "string"
            }
          },
          "metadata": {},
          "execution_count": 7
        }
      ]
    },
    {
      "cell_type": "code",
      "source": [
        "str"
      ],
      "metadata": {
        "colab": {
          "base_uri": "https://localhost:8080/",
          "height": 36
        },
        "id": "AqZSSccIO6pH",
        "outputId": "5cf19415-ee0a-48a0-91bd-9c4bf74381dc"
      },
      "execution_count": null,
      "outputs": [
        {
          "output_type": "execute_result",
          "data": {
            "text/plain": [
              "'Hello! this is string'"
            ],
            "application/vnd.google.colaboratory.intrinsic+json": {
              "type": "string"
            }
          },
          "metadata": {},
          "execution_count": 8
        }
      ]
    },
    {
      "cell_type": "markdown",
      "source": [
        "Tuples:"
      ],
      "metadata": {
        "id": "U4Ye-GQYO_aA"
      }
    },
    {
      "cell_type": "code",
      "source": [
        "tuple = (12,12,32,12,34,2,45,664)"
      ],
      "metadata": {
        "id": "KFI1Ll0EO7XS"
      },
      "execution_count": null,
      "outputs": []
    },
    {
      "cell_type": "code",
      "source": [
        "tuple"
      ],
      "metadata": {
        "colab": {
          "base_uri": "https://localhost:8080/"
        },
        "id": "JGJTEQMpPGNr",
        "outputId": "8e5d157b-1799-49cf-8383-07846385c805"
      },
      "execution_count": null,
      "outputs": [
        {
          "output_type": "execute_result",
          "data": {
            "text/plain": [
              "(12, 12, 32, 12, 34, 2, 45, 664)"
            ]
          },
          "metadata": {},
          "execution_count": 10
        }
      ]
    },
    {
      "cell_type": "code",
      "source": [
        "tuple[-1]"
      ],
      "metadata": {
        "colab": {
          "base_uri": "https://localhost:8080/"
        },
        "id": "CoeKTdBAWWSV",
        "outputId": "5361ce9a-00da-452f-840c-7d0dbe2c528b"
      },
      "execution_count": null,
      "outputs": [
        {
          "output_type": "execute_result",
          "data": {
            "text/plain": [
              "664"
            ]
          },
          "metadata": {},
          "execution_count": 19
        }
      ]
    },
    {
      "cell_type": "code",
      "source": [
        "tuple[0]"
      ],
      "metadata": {
        "colab": {
          "base_uri": "https://localhost:8080/"
        },
        "id": "z5r36ibRPHCn",
        "outputId": "6b53bd3e-2c29-4ed5-a203-eb3f9e661377"
      },
      "execution_count": null,
      "outputs": [
        {
          "output_type": "execute_result",
          "data": {
            "text/plain": [
              "12"
            ]
          },
          "metadata": {},
          "execution_count": 11
        }
      ]
    },
    {
      "cell_type": "code",
      "source": [
        "#tuple[3] = 12 immutable"
      ],
      "metadata": {
        "id": "aQnMEgelPSfp"
      },
      "execution_count": null,
      "outputs": []
    },
    {
      "cell_type": "markdown",
      "source": [
        "Control structures"
      ],
      "metadata": {
        "id": "Oy9ust6BQNDW"
      }
    },
    {
      "cell_type": "code",
      "source": [
        "for i in range(10):\n",
        "  print(i)"
      ],
      "metadata": {
        "colab": {
          "base_uri": "https://localhost:8080/"
        },
        "id": "wQmOFSoQQMHu",
        "outputId": "7f97c49a-e2b9-4b12-d05b-48414184ee51"
      },
      "execution_count": null,
      "outputs": [
        {
          "output_type": "stream",
          "name": "stdout",
          "text": [
            "0\n",
            "1\n",
            "2\n",
            "3\n",
            "4\n",
            "5\n",
            "6\n",
            "7\n",
            "8\n",
            "9\n"
          ]
        }
      ]
    },
    {
      "cell_type": "markdown",
      "source": [
        "The Slice Operator"
      ],
      "metadata": {
        "id": "kO4A_xs0cgNQ"
      }
    },
    {
      "cell_type": "code",
      "source": [
        "l = [1,4,23,5,32,12,423,45,333]"
      ],
      "metadata": {
        "id": "DnzA7oXSQBB8"
      },
      "execution_count": null,
      "outputs": []
    },
    {
      "cell_type": "code",
      "source": [
        "first_two_numbers =l[:2]"
      ],
      "metadata": {
        "id": "4si8VZD4coQi"
      },
      "execution_count": null,
      "outputs": []
    },
    {
      "cell_type": "code",
      "source": [
        "first_two_numbers"
      ],
      "metadata": {
        "colab": {
          "base_uri": "https://localhost:8080/"
        },
        "id": "vH4l5IcMcuiv",
        "outputId": "722ff4e9-7a73-4423-d43f-1b6f84597d8e"
      },
      "execution_count": null,
      "outputs": [
        {
          "output_type": "execute_result",
          "data": {
            "text/plain": [
              "[1, 4]"
            ]
          },
          "metadata": {},
          "execution_count": 37
        }
      ]
    },
    {
      "cell_type": "code",
      "source": [
        "last_two_numbers = l[-2:]"
      ],
      "metadata": {
        "id": "TcHjKbhvcxxe"
      },
      "execution_count": null,
      "outputs": []
    },
    {
      "cell_type": "code",
      "source": [
        "last_two_numbers"
      ],
      "metadata": {
        "colab": {
          "base_uri": "https://localhost:8080/"
        },
        "id": "wX-71736c3v6",
        "outputId": "5d6073c0-7f3b-4723-e632-cf55a8345ee5"
      },
      "execution_count": null,
      "outputs": [
        {
          "output_type": "execute_result",
          "data": {
            "text/plain": [
              "[45, 333]"
            ]
          },
          "metadata": {},
          "execution_count": 39
        }
      ]
    },
    {
      "cell_type": "code",
      "source": [
        "last_two = l[-3:-1]"
      ],
      "metadata": {
        "id": "_vKOPFEac-tc"
      },
      "execution_count": null,
      "outputs": []
    },
    {
      "cell_type": "code",
      "source": [
        "last_two"
      ],
      "metadata": {
        "colab": {
          "base_uri": "https://localhost:8080/"
        },
        "id": "1jArnXhOdIWV",
        "outputId": "a8f89654-1021-4aac-dffb-1dcbede0333c"
      },
      "execution_count": null,
      "outputs": [
        {
          "output_type": "execute_result",
          "data": {
            "text/plain": [
              "[423, 45]"
            ]
          },
          "metadata": {},
          "execution_count": 49
        }
      ]
    },
    {
      "cell_type": "code",
      "source": [
        "l1 = [1,3,456,57,56232,12]\n",
        "l2 = [212434.3,345345,65423,2346]"
      ],
      "metadata": {
        "id": "uRivpo1ZdLPR"
      },
      "execution_count": null,
      "outputs": []
    },
    {
      "cell_type": "markdown",
      "source": [
        "Concatenation and Repetition"
      ],
      "metadata": {
        "id": "2Uht6LjCiPuc"
      }
    },
    {
      "cell_type": "code",
      "source": [
        "l3 = l1 + l2\n",
        "l3"
      ],
      "metadata": {
        "colab": {
          "base_uri": "https://localhost:8080/"
        },
        "id": "6fjp8aeyh-z1",
        "outputId": "faf7e293-20fe-4997-b91a-92f35e69fd0d"
      },
      "execution_count": null,
      "outputs": [
        {
          "output_type": "execute_result",
          "data": {
            "text/plain": [
              "[1, 3, 456, 57, 56232, 12, 212434.3, 345345, 65423, 2346]"
            ]
          },
          "metadata": {},
          "execution_count": 51
        }
      ]
    },
    {
      "cell_type": "code",
      "source": [
        "my_string = \"Hello \" * 5"
      ],
      "metadata": {
        "id": "82-8CpFCiCRe"
      },
      "execution_count": null,
      "outputs": []
    },
    {
      "cell_type": "code",
      "source": [
        "my_string"
      ],
      "metadata": {
        "colab": {
          "base_uri": "https://localhost:8080/",
          "height": 36
        },
        "id": "rjKgCk4viG5C",
        "outputId": "9d743b58-abba-4126-d1ca-4ff1ac19bc7b"
      },
      "execution_count": null,
      "outputs": [
        {
          "output_type": "execute_result",
          "data": {
            "text/plain": [
              "'Hello Hello Hello Hello Hello '"
            ],
            "application/vnd.google.colaboratory.intrinsic+json": {
              "type": "string"
            }
          },
          "metadata": {},
          "execution_count": 56
        }
      ]
    },
    {
      "cell_type": "code",
      "source": [
        "my_string = \"banana\"\n",
        "count_of_a = my_string.count(\"a\")"
      ],
      "metadata": {
        "id": "hxBv6xPokmHx"
      },
      "execution_count": null,
      "outputs": []
    },
    {
      "cell_type": "code",
      "source": [
        "count_of_a"
      ],
      "metadata": {
        "colab": {
          "base_uri": "https://localhost:8080/"
        },
        "id": "wNER4-KGk6pr",
        "outputId": "fe9896fd-4721-440c-88b7-d19986304940"
      },
      "execution_count": null,
      "outputs": [
        {
          "output_type": "execute_result",
          "data": {
            "text/plain": [
              "3"
            ]
          },
          "metadata": {},
          "execution_count": 64
        }
      ]
    },
    {
      "cell_type": "code",
      "source": [
        "my_string = \"banana\"\n",
        "index_of_a = my_string.index(\"a\")"
      ],
      "metadata": {
        "id": "08f47fPflCR5"
      },
      "execution_count": null,
      "outputs": []
    },
    {
      "cell_type": "code",
      "source": [
        "index_of_a"
      ],
      "metadata": {
        "colab": {
          "base_uri": "https://localhost:8080/"
        },
        "id": "GX7aq5eslQUN",
        "outputId": "fb952a41-c71c-4aed-c945-174337680f33"
      },
      "execution_count": null,
      "outputs": [
        {
          "output_type": "execute_result",
          "data": {
            "text/plain": [
              "1"
            ]
          },
          "metadata": {},
          "execution_count": 66
        }
      ]
    },
    {
      "cell_type": "code",
      "source": [
        "my_string = \"hello, world!\"\n",
        "my_list = my_string.split(\",\")"
      ],
      "metadata": {
        "id": "AIbznezmlSrh"
      },
      "execution_count": null,
      "outputs": []
    },
    {
      "cell_type": "code",
      "source": [
        "my_list"
      ],
      "metadata": {
        "colab": {
          "base_uri": "https://localhost:8080/"
        },
        "id": "Asbor3-ClhJa",
        "outputId": "0eb8b213-469c-4546-ea9c-e61c35b2f1c8"
      },
      "execution_count": null,
      "outputs": [
        {
          "output_type": "execute_result",
          "data": {
            "text/plain": [
              "['hello', ' world!']"
            ]
          },
          "metadata": {},
          "execution_count": 71
        }
      ]
    },
    {
      "cell_type": "code",
      "source": [
        "my_string = \"hello,,,world!\"\n",
        "my_list = my_string.split(\",\")"
      ],
      "metadata": {
        "id": "0QRgasJmllft"
      },
      "execution_count": null,
      "outputs": []
    },
    {
      "cell_type": "code",
      "source": [
        "my_list"
      ],
      "metadata": {
        "colab": {
          "base_uri": "https://localhost:8080/"
        },
        "id": "rhCCVLral_MY",
        "outputId": "93b318f0-db5c-4d5e-d48d-7fe82a631c87"
      },
      "execution_count": null,
      "outputs": [
        {
          "output_type": "execute_result",
          "data": {
            "text/plain": [
              "['hello', '', '', 'world!']"
            ]
          },
          "metadata": {},
          "execution_count": 79
        }
      ]
    },
    {
      "cell_type": "code",
      "source": [
        "my_list = [\"hello\", \"world!\"]\n",
        "my_string = \",\".join(my_list)"
      ],
      "metadata": {
        "id": "SRwL12mGmBK6"
      },
      "execution_count": null,
      "outputs": []
    },
    {
      "cell_type": "code",
      "source": [
        "my_string"
      ],
      "metadata": {
        "colab": {
          "base_uri": "https://localhost:8080/",
          "height": 36
        },
        "id": "uizm6XImmYSf",
        "outputId": "9ecb065e-2452-43d3-86f3-690257abe66b"
      },
      "execution_count": null,
      "outputs": [
        {
          "output_type": "execute_result",
          "data": {
            "text/plain": [
              "'hello,world!'"
            ],
            "application/vnd.google.colaboratory.intrinsic+json": {
              "type": "string"
            }
          },
          "metadata": {},
          "execution_count": 94
        }
      ]
    },
    {
      "cell_type": "markdown",
      "source": [
        "The Accumulator Pattern"
      ],
      "metadata": {
        "id": "yKkz7n582YkE"
      }
    },
    {
      "cell_type": "code",
      "source": [
        "def sum_list(numbers):\n",
        "  \"\"\"Returns the sum of a list of numbers.\"\"\"\n",
        "  sum = 0\n",
        "  for number in numbers:\n",
        "    sum += number\n",
        "  return sum"
      ],
      "metadata": {
        "id": "hn-VUealmaIy"
      },
      "execution_count": 1,
      "outputs": []
    },
    {
      "cell_type": "code",
      "source": [
        "l = [1,2,3,56,7,8]\n",
        "sum_list(l)"
      ],
      "metadata": {
        "colab": {
          "base_uri": "https://localhost:8080/"
        },
        "id": "3e99m1r_2drT",
        "outputId": "a61ebe6b-ebc7-4d5e-c852-301076120411"
      },
      "execution_count": 3,
      "outputs": [
        {
          "output_type": "execute_result",
          "data": {
            "text/plain": [
              "77"
            ]
          },
          "metadata": {},
          "execution_count": 3
        }
      ]
    },
    {
      "cell_type": "markdown",
      "source": [
        "Naming Your Variables in For Loops"
      ],
      "metadata": {
        "id": "a_0oOxiL3F66"
      }
    },
    {
      "cell_type": "code",
      "source": [
        "# Create a list of numbers\n",
        "numbers = [1, 2, 3, 4, 5]\n",
        "\n",
        "# Iterate over the list and print each number\n",
        "for index, number in enumerate(numbers):\n",
        "  print(index, number)\n"
      ],
      "metadata": {
        "colab": {
          "base_uri": "https://localhost:8080/"
        },
        "id": "cmhUVvip2jJE",
        "outputId": "1a48ca90-a2a4-40d0-bf2d-b005c6e15d85"
      },
      "execution_count": 4,
      "outputs": [
        {
          "output_type": "stream",
          "name": "stdout",
          "text": [
            "0 1\n",
            "1 2\n",
            "2 3\n",
            "3 4\n",
            "4 5\n"
          ]
        }
      ]
    },
    {
      "cell_type": "markdown",
      "source": [
        "Keeping Track of Your Iterator Variable and Your Iterable"
      ],
      "metadata": {
        "id": "g6WdvH1b31Cp"
      }
    },
    {
      "cell_type": "code",
      "source": [
        "# Create a list of numbers\n",
        "numbers = [1, 2, 3, 4, 5]\n",
        "\n",
        "# Iterate over the list and print each number\n",
        "iterator = iter(numbers)\n",
        "while True:\n",
        "  try:\n",
        "    number = next(iterator)\n",
        "    print(number)\n",
        "  except StopIteration:\n",
        "    break"
      ],
      "metadata": {
        "colab": {
          "base_uri": "https://localhost:8080/"
        },
        "id": "-sYiV1Ec3JqD",
        "outputId": "020b6c47-61ad-4925-aed2-33bccc6f94b7"
      },
      "execution_count": 5,
      "outputs": [
        {
          "output_type": "stream",
          "name": "stdout",
          "text": [
            "1\n",
            "2\n",
            "3\n",
            "4\n",
            "5\n"
          ]
        }
      ]
    },
    {
      "cell_type": "code",
      "source": [],
      "metadata": {
        "id": "8uoCbTHn3zmP"
      },
      "execution_count": null,
      "outputs": []
    }
  ]
}